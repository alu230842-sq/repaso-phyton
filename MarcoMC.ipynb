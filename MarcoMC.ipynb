{
  "nbformat": 4,
  "nbformat_minor": 0,
  "metadata": {
    "colab": {
      "provenance": [],
      "authorship_tag": "ABX9TyO0mckuQfGR9Uk4S3T8nJZ1",
      "include_colab_link": true
    },
    "kernelspec": {
      "name": "python3",
      "display_name": "Python 3"
    },
    "language_info": {
      "name": "python"
    }
  },
  "cells": [
    {
      "cell_type": "markdown",
      "metadata": {
        "id": "view-in-github",
        "colab_type": "text"
      },
      "source": [
        "<a href=\"https://colab.research.google.com/github/alu230842-sq/repaso-phyton/blob/main/MarcoMC.ipynb\" target=\"_parent\"><img src=\"https://colab.research.google.com/assets/colab-badge.svg\" alt=\"Open In Colab\"/></a>"
      ]
    },
    {
      "cell_type": "code",
      "execution_count": null,
      "metadata": {
        "id": "zbxw1Co0z8N4"
      },
      "outputs": [],
      "source": []
    },
    {
      "cell_type": "markdown",
      "source": [
        "Programa 1 en phyton para imprimir mi nombre con hola mundo"
      ],
      "metadata": {
        "id": "5HUVBu850LE0"
      }
    },
    {
      "cell_type": "code",
      "source": [
        "print (\"Hola Mundo\")\n",
        "nombre=(input(\"Captura tu nombre: \"))\n",
        "print (nombre)"
      ],
      "metadata": {
        "colab": {
          "base_uri": "https://localhost:8080/"
        },
        "id": "hnnxMXWF0V8-",
        "outputId": "168ffdf4-1b05-4aa9-fec5-df20a469636d"
      },
      "execution_count": 5,
      "outputs": [
        {
          "output_type": "stream",
          "name": "stdout",
          "text": [
            "Hola Mundo\n",
            "Captura tu nombre: marco\n",
            "marco\n"
          ]
        }
      ]
    },
    {
      "cell_type": "markdown",
      "source": [
        "Programa 2 capturar nombre, paterno y materno e imprimirlo en pantalla"
      ],
      "metadata": {
        "id": "0xubCH5i1aqD"
      }
    },
    {
      "cell_type": "code",
      "source": [
        "print (\"Programa 2\")\n",
        "apellidop = (input(\"Captura tu apellido paterno: \"))\n",
        "apellidom = (input(\"Captura tu apellido materno: \"))\n",
        "print (apellidop)\n",
        "print (apellidom)"
      ],
      "metadata": {
        "colab": {
          "base_uri": "https://localhost:8080/"
        },
        "id": "-hDsKgJA1kSq",
        "outputId": "a4f716c7-e2e7-4367-a2db-51e3442cfb22"
      },
      "execution_count": 4,
      "outputs": [
        {
          "output_type": "stream",
          "name": "stdout",
          "text": [
            "Programa 2\n",
            "Captura tu apellido paterno: Marquez\n",
            "Captura tu apellido materno: Cruz\n",
            "Marquez\n",
            "Cruz\n"
          ]
        }
      ]
    }
  ]
}