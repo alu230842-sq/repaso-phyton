{
  "nbformat": 4,
  "nbformat_minor": 0,
  "metadata": {
    "colab": {
      "provenance": [],
      "authorship_tag": "ABX9TyP2PAYtaDoeYSohWi3Yx9cB",
      "include_colab_link": true
    },
    "kernelspec": {
      "name": "python3",
      "display_name": "Python 3"
    },
    "language_info": {
      "name": "python"
    }
  },
  "cells": [
    {
      "cell_type": "markdown",
      "metadata": {
        "id": "view-in-github",
        "colab_type": "text"
      },
      "source": [
        "<a href=\"https://colab.research.google.com/github/alu230842-sq/repaso-phyton/blob/main/MarcoMC.ipynb\" target=\"_parent\"><img src=\"https://colab.research.google.com/assets/colab-badge.svg\" alt=\"Open In Colab\"/></a>"
      ]
    },
    {
      "cell_type": "code",
      "execution_count": null,
      "metadata": {
        "id": "zbxw1Co0z8N4"
      },
      "outputs": [],
      "source": []
    },
    {
      "cell_type": "markdown",
      "source": [
        "Programa 1 en phyton para imprimir mi nombre con hola mundo"
      ],
      "metadata": {
        "id": "5HUVBu850LE0"
      }
    },
    {
      "cell_type": "code",
      "source": [
        "print (\"Hola Mundo\")\n",
        "nombre=(input(\"Captura tu nombre: \"))\n",
        "print (nombre)"
      ],
      "metadata": {
        "colab": {
          "base_uri": "https://localhost:8080/"
        },
        "id": "hnnxMXWF0V8-",
        "outputId": "168ffdf4-1b05-4aa9-fec5-df20a469636d"
      },
      "execution_count": 5,
      "outputs": [
        {
          "output_type": "stream",
          "name": "stdout",
          "text": [
            "Hola Mundo\n",
            "Captura tu nombre: marco\n",
            "marco\n"
          ]
        }
      ]
    },
    {
      "cell_type": "markdown",
      "source": [
        "Programa 2 capturar nombre, paterno y materno e imprimirlo en pantalla"
      ],
      "metadata": {
        "id": "0xubCH5i1aqD"
      }
    },
    {
      "cell_type": "code",
      "source": [
        "print (\"Programa 2\")\n",
        "nombre=(input(\"Captura tu nombre: \"))\n",
        "print (nombre)\n",
        "apellidop = (input(\"Captura tu apellido paterno: \"))\n",
        "apellidom = (input(\"Captura tu apellido materno: \"))\n",
        "print (nombre + \" \" + apellidop + \" \" + apellidom)"
      ],
      "metadata": {
        "colab": {
          "base_uri": "https://localhost:8080/"
        },
        "id": "-hDsKgJA1kSq",
        "outputId": "0c2462f7-c1f5-45f9-c325-2ad2062fd3e9"
      },
      "execution_count": 7,
      "outputs": [
        {
          "output_type": "stream",
          "name": "stdout",
          "text": [
            "Programa 2\n",
            "Captura tu nombre: marco\n",
            "marco\n",
            "Captura tu apellido paterno: marquez \n",
            "Captura tu apellido materno: cruz\n",
            "marco marquez  cruz\n"
          ]
        }
      ]
    }
  ]
}