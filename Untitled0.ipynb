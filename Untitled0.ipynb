{
  "nbformat": 4,
  "nbformat_minor": 0,
  "metadata": {
    "colab": {
      "provenance": [],
      "authorship_tag": "ABX9TyMzDHGOgniSY15lkEL2v6OG",
      "include_colab_link": true
    },
    "kernelspec": {
      "name": "python3",
      "display_name": "Python 3"
    },
    "language_info": {
      "name": "python"
    }
  },
  "cells": [
    {
      "cell_type": "markdown",
      "metadata": {
        "id": "view-in-github",
        "colab_type": "text"
      },
      "source": [
        "<a href=\"https://colab.research.google.com/github/alu230842-sq/repaso-phyton/blob/main/Untitled0.ipynb\" target=\"_parent\"><img src=\"https://colab.research.google.com/assets/colab-badge.svg\" alt=\"Open In Colab\"/></a>"
      ]
    },
    {
      "cell_type": "code",
      "execution_count": null,
      "metadata": {
        "id": "WKyaq-Lh59Gx"
      },
      "outputs": [],
      "source": []
    },
    {
      "cell_type": "markdown",
      "source": [
        "Ejercicios a desarrollar en Colab con GitHub\n",
        "\n",
        "1.- Realizar un programa en phyton que permite capturar 2 numeros enteros e imprima la suma, la resta, multiplicacion y la division de ambos.\n",
        "\n",
        "2.- Realizar un programa en `phyton mediante el cual calcules el total de caracteres que tiene un nombre capturado desde el teclado.\n",
        "\n",
        "3.- Realizar un programa en phyton que permita imprimir los 7 dias de la semana"
      ],
      "metadata": {
        "id": "K7baPFZZ6Edo"
      }
    },
    {
      "cell_type": "markdown",
      "source": [
        "Programa 1 - captura numeros e imprima operaciones"
      ],
      "metadata": {
        "id": "Ary6hBPC7InH"
      }
    },
    {
      "cell_type": "code",
      "source": [
        "print (\"Programa 1\")\n",
        "num1 = (int(input(\"Captura tu 1er numero: \")))\n",
        "num2 = (int(input(\"Captura tu 2do numero: \")))\n",
        "sum = num1 + num2\n",
        "res = num1 - num2\n",
        "mul = num1 * num2\n",
        "div = num1 / num2\n",
        "print (\"Resultados\")\n",
        "print (\"Suma: \")\n",
        "print (sum)\n",
        "print (\"Resta: \")\n",
        "print (res)\n",
        "print (\"Multiplicacion: \")\n",
        "print (mul)\n",
        "print (\"Division: \")\n",
        "print (div)"
      ],
      "metadata": {
        "colab": {
          "base_uri": "https://localhost:8080/"
        },
        "id": "OM4EtSsY7P51",
        "outputId": "55ff8346-cb24-4f32-9a82-b1c2bdb766e2"
      },
      "execution_count": 7,
      "outputs": [
        {
          "output_type": "stream",
          "name": "stdout",
          "text": [
            "Programa 1\n",
            "Captura tu 1er numero: 5\n",
            "Captura tu 2do numero: 5\n",
            "Resultados\n",
            "Suma: \n",
            "10\n",
            "Resta: \n",
            "0\n",
            "Multiplicacion: \n",
            "25\n",
            "Division: \n",
            "1.0\n"
          ]
        }
      ]
    },
    {
      "cell_type": "markdown",
      "source": [
        "Programa 2 - Calcular caracteres que tiene un nombre"
      ],
      "metadata": {
        "id": "96BTy927-uiR"
      }
    },
    {
      "cell_type": "code",
      "source": [
        "print (\"Programa 2\")\n",
        "nombre = (input(\"Captura tu nombre: \"))\n",
        "totalletras = len(nombre)\n",
        "print(\"El total de caracteres es: \", totalletras)"
      ],
      "metadata": {
        "colab": {
          "base_uri": "https://localhost:8080/"
        },
        "id": "jODeJ3Er-35x",
        "outputId": "6b24f4f2-9274-448e-feca-47e585c539eb"
      },
      "execution_count": 8,
      "outputs": [
        {
          "output_type": "stream",
          "name": "stdout",
          "text": [
            "Programa 2\n",
            "Captura tu nombre: marco\n",
            "El total de caracteres es:  5\n"
          ]
        }
      ]
    },
    {
      "cell_type": "markdown",
      "source": [
        "Programa 3 - Imprimir los 7 dias de la semana"
      ],
      "metadata": {
        "id": "YjJfYWBG_w04"
      }
    },
    {
      "cell_type": "code",
      "source": [
        "semana=[\"Lunes\", \"Martes\", \"Miercoles\", \"Jueves\", \"Viernes\"]\n",
        "for dia in semana:\n",
        "  print (dia)\n"
      ],
      "metadata": {
        "colab": {
          "base_uri": "https://localhost:8080/"
        },
        "id": "yUsVGObN_2xv",
        "outputId": "e35e8600-5653-458f-c3c0-8a020f1a91ad"
      },
      "execution_count": 10,
      "outputs": [
        {
          "output_type": "stream",
          "name": "stdout",
          "text": [
            "Lunes\n",
            "Martes\n",
            "Miercoles\n",
            "Jueves\n",
            "Viernes\n"
          ]
        }
      ]
    }
  ]
}